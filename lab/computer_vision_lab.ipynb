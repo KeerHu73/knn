{
  "cells": [
    {
      "cell_type": "markdown",
      "metadata": {
        "id": "view-in-github",
        "colab_type": "text"
      },
      "source": [
        "<a href=\"https://colab.research.google.com/github/KeerHu73/knn/blob/main/lab/computer_vision_lab.ipynb\" target=\"_parent\"><img src=\"https://colab.research.google.com/assets/colab-badge.svg\" alt=\"Open In Colab\"/></a>"
      ]
    },
    {
      "cell_type": "markdown",
      "metadata": {
        "id": "YEb4hf7Lqvl2"
      },
      "source": [
        "## Computer Vision\n",
        "\n",
        "Let's do some very basic computer vision. We're going to import the MNIST handwritten digits data and $k$NN to predict values (i.e. \"see/read\").\n",
        "\n",
        "1. To load the data, run the following code in a chunk:\n",
        "```\n",
        "from keras.datasets import mnist\n",
        "df = mnist.load_data('minst.db')\n",
        "train,test = df\n",
        "X_train, y_train = train\n",
        "X_test, y_test = test\n",
        "```\n",
        "The `y_test` and `y_train` vectors, for each index `i`, tell you want number is written in the corresponding index in `X_train[i]` and `X_test[i]`. The value of `X_train[i]` and `X_test[i]`, however, is a 28$\\times$28 array whose entries contain values between 0 and 256. Each element of the matrix is essentially a \"pixel\" and the matrix encodes a representation of a number. To visualize this, run the following code to see the first ten numbers:\n",
        "```\n",
        "import matplotlib.pyplot as plt\n",
        "import numpy as np\n",
        "np.set_printoptions(edgeitems=30, linewidth=100000)\n",
        "for i in range(5):\n",
        "    print(y_test[i],'\\n') # Print the label\n",
        "    print(X_test[i],'\\n') # Print the matrix of values\n",
        "    plt.contourf(np.rot90(X_test[i].transpose())) # Make a contour plot of the matrix values\n",
        "    plt.show()\n",
        "```\n",
        "OK, those are the data: Labels attached to handwritten digits encoded as a matrix.\n",
        "\n",
        "2. What is the shape of `X_train` and `X_test`? What is the shape of `X_train[i]` and `X_test[i]` for each index `i`? What is the shape of `y_train` and `y_test`?\n",
        "3. Use Numpy's `.reshape()` method to covert the training and testing data from a matrix into an vector of features. So, `X_test[index].reshape((1,784))` will convert the $index$-th element of `X_test` into a $28\\times 28=784$-length row vector of values, rather than a matrix. Turn `X_train` into an $N \\times 784$ matrix $X$ that is suitable for scikit-learn's kNN classifier where $N$ is the number of observations and $784=28*28$ (you could use, for example, a `for` loop).\n",
        "4. Use the reshaped `X_test` and `y_test` data to create a $k$-nearest neighbor classifier of digit. What is the optimal number of neighbors $k$? If you can't determine this, play around with different values of $k$ for your classifier.\n",
        "5. For the optimal number of neighbors, how well does your predictor perform on the test set? Report the accuracy, compute a confusion matrix, and explain your findings.\n",
        "6. For your confusion matrix, which mistakes are most likely? Do you find any interesting patterns?\n",
        "7. So, this is how computers \"see.\" They convert an image into a matrix of values, that matrix becomes a vector in a dataset, and then we deploy ML tools on it as if it was any other kind of tabular data. To make sure you follow this, invent a way to represent a color photo in matrix form, and then describe how you could convert it into tabular data. (Hint: RGB color codes provide a method of encoding a numeric value that represents a color.)"
      ]
    },
    {
      "cell_type": "code",
      "source": [
        "from keras.datasets import mnist\n",
        "df = mnist.load_data('minst.db')\n",
        "train,test = df\n",
        "X_train, y_train = train\n",
        "X_test, y_test = test"
      ],
      "metadata": {
        "id": "fpghsGHNqx_n"
      },
      "execution_count": null,
      "outputs": []
    },
    {
      "cell_type": "code",
      "source": [
        "import matplotlib.pyplot as plt\n",
        "import numpy as np\n",
        "np.set_printoptions(edgeitems=30, linewidth=100000)\n",
        "for i in range(5):\n",
        "    print(y_test[i],'\\n') # Print the label\n",
        "    print(X_test[i],'\\n') # Print the matrix of values\n",
        "    plt.contourf(np.rot90(X_test[i].transpose())) # Make a contour plot of the matrix values\n",
        "    plt.show()"
      ],
      "metadata": {
        "id": "KXC6aTyOq88o"
      },
      "execution_count": null,
      "outputs": []
    },
    {
      "cell_type": "markdown",
      "source": [
        "2. What is the shape of X_train and X_test? What is the shape of X_train[i] and X_test[i] for each index i? What is the shape of y_train and y_test?"
      ],
      "metadata": {
        "id": "iJEJmSNjVpF1"
      }
    },
    {
      "cell_type": "code",
      "source": [
        "print(X_train.shape)\n",
        "print(X_test.shape)\n",
        "print(X_train[0].shape)\n",
        "print(X_test[0].shape)\n",
        "print(y_train.shape)\n",
        "print(y_test.shape)\n"
      ],
      "metadata": {
        "id": "2ffj4SpJVthq"
      },
      "execution_count": null,
      "outputs": []
    },
    {
      "cell_type": "markdown",
      "source": [
        "3. Use Numpy's .reshape() method to covert the training and testing data from a matrix into an vector of features. So, X_test[index].reshape((1,784)) will convert the\n",
        "-th element of X_test into a\n",
        "-length row vector of values, rather than a matrix. Turn X_train into an\n",
        " matrix\n",
        " that is suitable for scikit-learn's kNN classifier where\n",
        " is the number of observations and\n",
        " (you could use, for example, a for loop)."
      ],
      "metadata": {
        "id": "ffcdl0TUVu_6"
      }
    },
    {
      "cell_type": "code",
      "source": [
        "import pandas as pd\n",
        "import numpy as np\n",
        "\n",
        "# Control data loading method:\n",
        "# 1 = process and save new data, 0 = load from existing CSV\n",
        "reload = 1  # Change to 0 if files already exist\n",
        "\n",
        "# Define file paths\n",
        "train_path = './data/Z_train.csv'\n",
        "test_path = './data/Z_test.csv'\n",
        "\n",
        "if reload == 1:  # Process and save reshaped data\n",
        "    print(\"Reshaping and saving data...\")\n",
        "\n",
        "    # Process training data\n",
        "    Z_train = []\n",
        "    for i in range(60000):  # MNIST training set size\n",
        "        row = X_train[i].reshape(1, 784)[0]  # Flatten 28x28 matrix to 1D vector\n",
        "        Z_train.append(row)\n",
        "    Z_train = pd.DataFrame(Z_train)\n",
        "\n",
        "    # Process test data\n",
        "    Z_test = []\n",
        "    for i in range(len(y_test)):  # Ensure test set size matches y_test length\n",
        "        row = X_test[i].reshape(1, 784)[0]\n",
        "        Z_test.append(row)\n",
        "    Z_test = pd.DataFrame(Z_test)\n",
        "\n",
        "    # Save data with utf-8-sig encoding to avoid encoding issues\n",
        "    Z_train.to_csv(train_path, encoding='utf-8-sig', index=False)\n",
        "    Z_test.to_csv(test_path, encoding='utf-8-sig', index=False)\n",
        "\n",
        "else:  # Load saved CSV files\n",
        "    print(\"Loading saved data...\")\n",
        "\n",
        "    # Read CSV files, avoiding UnicodeDecodeError\n",
        "    Z_train = pd.read_csv(train_path, encoding='utf-8-sig', errors='replace')\n",
        "    Z_test = pd.read_csv(test_path, encoding='utf-8-sig', errors='replace')\n",
        "\n",
        "    # Print data dimensions to confirm successful loading\n",
        "    print(\"Z_train shape:\", Z_train.shape, \"Z_test shape:\", Z_test.shape)\n"
      ],
      "metadata": {
        "id": "-Tn6EG-2Vxli"
      },
      "execution_count": null,
      "outputs": []
    }
  ],
  "metadata": {
    "language_info": {
      "name": "python"
    },
    "colab": {
      "provenance": [],
      "include_colab_link": true
    },
    "kernelspec": {
      "name": "python3",
      "display_name": "Python 3"
    }
  },
  "nbformat": 4,
  "nbformat_minor": 0
}